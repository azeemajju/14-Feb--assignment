{
 "cells": [
  {
   "cell_type": "markdown",
   "id": "d4c4e1fb",
   "metadata": {},
   "source": [
    "(Q1):what is multithreading in python? hy is it used? \n",
    "Name the module used to handle threads in python?\n",
    "\n",
    "ans : Multithreading in Python refers to the execution of multiple threads simultaneously within the same program. A thread is a separate flow of execution that can run simultaneously with other threads within the same program, and each thread has its own call stack and program counter.\n",
    "\n",
    "Multithreading is used in Python to perform tasks that can run concurrently, such as I/O bound tasks or tasks that involve waiting for external resources. By using threads, the program can continue to execute other tasks while waiting for I/O operations to complete, which can improve the overall performance of the program.\n",
    "\n",
    "The module used to handle threads in Python is called threading. It provides a way to create and manage threads within a Python program. The threading module allows you to create threads, start them, stop them, and synchronize their execution using locks, events, and semaphores. It also provides a way to communicate between threads using queues and other synchronization primitives.\n",
    "\n"
   ]
  },
  {
   "cell_type": "markdown",
   "id": "b166bf25",
   "metadata": {},
   "source": [
    "(Q2):why threading module used?write the use of the following functions\n",
    "1-activeCount\n",
    "2-currentThread\n",
    "3-enumerate\n",
    "\n",
    "ans : The threading module in Python is used to handle threads in a Python program. It provides a way to create and manage threads, start them, stop them, and synchronize their execution.\n",
    "\n",
    "Here are the uses of the following functions in the threading module:\n",
    "\n",
    "activeCount(): This function is used to get the number of active threads in the current thread object's process. It returns the number of active threads, including the main thread.\n",
    "\n",
    "currentThread(): This function is used to get the current thread object. It returns the thread object that represents the current thread.\n",
    "\n",
    "enumerate(): This function is used to return a list of all Thread objects that are currently active. It returns a list of Thread objects, including the main thread"
   ]
  },
  {
   "cell_type": "markdown",
   "id": "71c34a1a",
   "metadata": {},
   "source": [
    "(Q3):Explain the following functions\n",
    " run\n",
    " start\n",
    " join\n",
    " isAlive\n",
    "    \n",
    "ans :run(): This method is the entry point for a thread. When a thread object's start() method is called, it in turn calls the run() method to begin the thread's activity. You can override this method in a subclass to define the behavior of the thread.\n",
    "\n",
    "start(): This method starts a thread by calling its run() method. When a thread is started, it begins executing in a separate thread of control, and the code in the run() method is executed in that thread.\n",
    "\n",
    "join(): This method blocks the calling thread until the thread on which it is called has completed. In other words, the join() method waits for the thread to finish executing before the calling thread continues its own execution. If you don't call the join() method on a thread, the calling thread will continue executing immediately after the start() method is called, regardless of whether the thread has finished executing or not.\n",
    "\n",
    "isAlive(): This method returns a Boolean value indicating whether the thread is currently alive or not. A thread is considered alive from the moment it is started using the start() method until the moment it completes its execution."
   ]
  },
  {
   "cell_type": "markdown",
   "id": "c0f88375",
   "metadata": {},
   "source": [
    "(Q4):write a python program to create two threads. Thread one must print the list of squares and thread\n",
    "two must print the list of cubes\n"
   ]
  },
  {
   "cell_type": "code",
   "execution_count": 7,
   "id": "217c3721",
   "metadata": {},
   "outputs": [
    {
     "name": "stdout",
     "output_type": "stream",
     "text": [
      "1 squared is 1\n",
      "2 squared is 4\n",
      "3 squared is 9\n",
      "4 squared is 16\n",
      "5 squared is 25\n",
      "1 cubed is 1\n",
      "2 cubed is 8\n",
      "3 cubed is 27\n",
      "4 cubed is 64\n",
      "5 cubed is 125\n",
      "Done!\n"
     ]
    }
   ],
   "source": [
    "import threading\n",
    "\n",
    "def print_squares(numbers):\n",
    "    for num in numbers:\n",
    "        print(f\"{num} squared is {num**2}\")\n",
    "\n",
    "def print_cubes(numbers):\n",
    "    for num in numbers:\n",
    "        print(f\"{num} cubed is {num**3}\")\n",
    "\n",
    "if __name__ == '__main__':\n",
    "    numbers = [1, 2, 3, 4, 5]\n",
    "    thread1 = threading.Thread(target=print_squares, args=(numbers,))\n",
    "    thread2 = threading.Thread(target=print_cubes, args=(numbers,))\n",
    "\n",
    "    thread1.start()\n",
    "    thread2.start()\n",
    "\n",
    "    thread1.join()\n",
    "    thread2.join()\n",
    "\n",
    "    print(\"Done!\")"
   ]
  },
  {
   "cell_type": "markdown",
   "id": "6a807aa8",
   "metadata": {},
   "source": [
    "(Q5):State advantages and disadvantages of multithreading\n",
    "\n",
    "ans:Multithreading has several advantages and disadvantages. Here are some of them:\n",
    "\n",
    "Advantages:\n",
    "\n",
    "Increased efficiency: Multithreading can improve the overall efficiency of a program by allowing multiple tasks to be executed simultaneously.\n",
    "\n",
    "Better resource management: Multithreading can help better manage system resources by allowing different threads to share resources such as memory, CPU time, and I/O devices.\n",
    "\n",
    "Improved responsiveness: Multithreading can help improve the responsiveness of a program by allowing it to continue executing other tasks while waiting for a time-consuming operation to complete.\n",
    "\n",
    "Disadvantages:\n",
    "\n",
    "Increased complexity: Multithreading can add complexity to a program, making it more difficult to design, implement, and debug.\n",
    "\n",
    "Increased memory usage: Each thread requires its own stack space and other resources, which can lead to increased memory usage.\n",
    "\n",
    "Race conditions: Multithreading can lead to race conditions, where two or more threads access shared data simultaneously, resulting in unpredictable behavior.\n",
    "\n",
    "Deadlocks: Multithreading can result in deadlocks, where two or more threads are blocked waiting for each other to release resources they need.\n",
    "\n",
    "\n",
    "\n",
    "\n",
    "\n"
   ]
  },
  {
   "cell_type": "markdown",
   "id": "061e75cc",
   "metadata": {},
   "source": [
    "(Q6):Explain deadlocks and race conditions.\n",
    "    \n",
    "ans:Deadlocks and race conditions are two common issues that can occur in concurrent programming, including multithreading.\n",
    "\n",
    "Deadlock:\n",
    "A deadlock occurs when two or more threads are blocked, waiting for each other to release resources that they need to proceed. In other words, each thread is holding a resource that the other thread needs, resulting in a \"deadly embrace\" where neither thread can make progress. Deadlocks can be challenging to diagnose and resolve since they often occur intermittently and are dependent on the timing of thread execution.\n",
    "\n",
    "Race Condition:\n",
    "A race condition occurs when two or more threads access a shared resource simultaneously and try to modify it concurrently. As a result, the final value of the shared resource is dependent on the order of execution of the threads, which can lead to unpredictable and incorrect behavior. Race conditions can be particularly challenging to detect and reproduce since they may not occur consistently and can depend on the timing of thread execution."
   ]
  },
  {
   "cell_type": "code",
   "execution_count": null,
   "id": "649d052a",
   "metadata": {},
   "outputs": [],
   "source": []
  },
  {
   "cell_type": "code",
   "execution_count": null,
   "id": "65e678b1",
   "metadata": {},
   "outputs": [],
   "source": []
  },
  {
   "cell_type": "code",
   "execution_count": null,
   "id": "24b9d2df",
   "metadata": {},
   "outputs": [],
   "source": []
  },
  {
   "cell_type": "code",
   "execution_count": null,
   "id": "c4a50609",
   "metadata": {},
   "outputs": [],
   "source": []
  },
  {
   "cell_type": "code",
   "execution_count": null,
   "id": "ffc92e52",
   "metadata": {},
   "outputs": [],
   "source": []
  },
  {
   "cell_type": "code",
   "execution_count": null,
   "id": "06a6b9e4",
   "metadata": {},
   "outputs": [],
   "source": []
  },
  {
   "cell_type": "code",
   "execution_count": null,
   "id": "c41999b0",
   "metadata": {},
   "outputs": [],
   "source": []
  },
  {
   "cell_type": "code",
   "execution_count": null,
   "id": "d64a0f9b",
   "metadata": {},
   "outputs": [],
   "source": []
  },
  {
   "cell_type": "code",
   "execution_count": null,
   "id": "e323f367",
   "metadata": {},
   "outputs": [],
   "source": []
  },
  {
   "cell_type": "code",
   "execution_count": null,
   "id": "8d4c6bc8",
   "metadata": {},
   "outputs": [],
   "source": []
  },
  {
   "cell_type": "code",
   "execution_count": null,
   "id": "d27c66ee",
   "metadata": {},
   "outputs": [],
   "source": []
  },
  {
   "cell_type": "code",
   "execution_count": null,
   "id": "f9d4df9b",
   "metadata": {},
   "outputs": [],
   "source": []
  },
  {
   "cell_type": "code",
   "execution_count": null,
   "id": "8a20e7ae",
   "metadata": {},
   "outputs": [],
   "source": []
  },
  {
   "cell_type": "code",
   "execution_count": null,
   "id": "6f6be4e0",
   "metadata": {},
   "outputs": [],
   "source": []
  },
  {
   "cell_type": "code",
   "execution_count": null,
   "id": "02b2bb0b",
   "metadata": {},
   "outputs": [],
   "source": []
  },
  {
   "cell_type": "code",
   "execution_count": null,
   "id": "9cc354cc",
   "metadata": {},
   "outputs": [],
   "source": []
  },
  {
   "cell_type": "code",
   "execution_count": null,
   "id": "48fd3445",
   "metadata": {},
   "outputs": [],
   "source": []
  },
  {
   "cell_type": "code",
   "execution_count": null,
   "id": "cec8f2e5",
   "metadata": {},
   "outputs": [],
   "source": []
  },
  {
   "cell_type": "code",
   "execution_count": null,
   "id": "a38ee246",
   "metadata": {},
   "outputs": [],
   "source": []
  }
 ],
 "metadata": {
  "kernelspec": {
   "display_name": "Python 3 (ipykernel)",
   "language": "python",
   "name": "python3"
  },
  "language_info": {
   "codemirror_mode": {
    "name": "ipython",
    "version": 3
   },
   "file_extension": ".py",
   "mimetype": "text/x-python",
   "name": "python",
   "nbconvert_exporter": "python",
   "pygments_lexer": "ipython3",
   "version": "3.9.13"
  }
 },
 "nbformat": 4,
 "nbformat_minor": 5
}
